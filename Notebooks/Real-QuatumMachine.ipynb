{
 "cells": [
  {
   "cell_type": "code",
   "execution_count": null,
   "id": "ecb7c136",
   "metadata": {},
   "outputs": [],
   "source": [
    "###Running Algorith on Real-Machine from Jupyter Notebook. Autor: Amrit Chhetri"
   ]
  },
  {
   "cell_type": "markdown",
   "id": "9f435c13",
   "metadata": {},
   "source": [
    "from qiskit import QuantumCircuit, QuantumRegister, ClassicalRegister, IBMQ, execute, transpile, Aer, assemble\n",
    "from qiskit.tools.monitor import job_monitor\n"
   ]
  },
  {
   "cell_type": "code",
   "execution_count": null,
   "id": "bb0e04ae",
   "metadata": {},
   "outputs": [],
   "source": [
    "qr = QuantumRegister(5)\n",
    "cr = ClassicalRegister(5)"
   ]
  },
  {
   "cell_type": "code",
   "execution_count": null,
   "id": "01677627",
   "metadata": {},
   "outputs": [],
   "source": [
    "circuit = QuantumCircuit(qr, cr)\n",
    "circuit.x(qr[0])\n",
    "circuit.x(qr[1])\n",
    "circuit.ccx(qr[0], qr[1], qr[2])\n",
    "circuit.cx(qr[0], qr[1])\n",
    "circuit.measure(qr, cr)"
   ]
  },
  {
   "cell_type": "code",
   "execution_count": null,
   "id": "10a29fb2",
   "metadata": {},
   "outputs": [],
   "source": [
    "IBMQ.save_account(\"421d274b036d601145cfa3f18287ff92d8cc3d9f4d8628e865b60d4495fc6bceb3586aed6b0abbae478f17e8ebb5b178ebf66c1bf362c81ef9396813385b5d9f\", overwrite=True) \n",
    "provider = IBMQ.load_account()\n",
    "provider = IBMQ.get_provider(hub='ibm-q', group='open', project='main')\n",
    "backend = provider.get_backend('ibmq_quito')"
   ]
  },
  {
   "cell_type": "code",
   "execution_count": null,
   "id": "8c89b9f5",
   "metadata": {},
   "outputs": [],
   "source": [
    "mapped_circuit = transpile(circuit, backend=backend)\n",
    "qobj = assemble(mapped_circuit, backend=backend, shots=1024)\n",
    "\n",
    "job = backend.run(qobj)\n",
    "print(job)"
   ]
  },
  {
   "cell_type": "code",
   "execution_count": null,
   "id": "cdb9822e",
   "metadata": {},
   "outputs": [],
   "source": [
    "job.status()\n",
    "job.job_id()"
   ]
  },
  {
   "cell_type": "code",
   "execution_count": null,
   "id": "7dd5d196",
   "metadata": {},
   "outputs": [],
   "source": [
    "job = provider.get_backend('ibmq_quito').retrieve_job('chova5laqbbvbu7p114g')\n",
    "result = job.result()\n",
    "print(result)"
   ]
  },
  {
   "cell_type": "code",
   "execution_count": null,
   "id": "b044a0ef",
   "metadata": {},
   "outputs": [],
   "source": [
    "counts = result.get_counts()\n",
    "print(counts)"
   ]
  },
  {
   "cell_type": "code",
   "execution_count": null,
   "id": "9df3c397",
   "metadata": {},
   "outputs": [],
   "source": []
  },
  {
   "cell_type": "code",
   "execution_count": null,
   "id": "f3f5f11f",
   "metadata": {},
   "outputs": [],
   "source": []
  }
 ],
 "metadata": {
  "kernelspec": {
   "display_name": "Python 3 (ipykernel)",
   "language": "python",
   "name": "python3"
  },
  "language_info": {
   "codemirror_mode": {
    "name": "ipython",
    "version": 3
   },
   "file_extension": ".py",
   "mimetype": "text/x-python",
   "name": "python",
   "nbconvert_exporter": "python",
   "pygments_lexer": "ipython3",
   "version": "3.8.2"
  }
 },
 "nbformat": 4,
 "nbformat_minor": 5
}
